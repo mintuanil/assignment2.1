{
 "cells": [
  {
   "cell_type": "code",
   "execution_count": null,
   "metadata": {},
   "outputs": [],
   "source": [
    "#Problem Statement 1:\n",
    "\n",
    "#Write a Python Program to implement your own myreduce() function which works exactly\n",
    "#like Python's built-in function reduce()"
   ]
  },
  {
   "cell_type": "code",
   "execution_count": 1,
   "metadata": {
    "scrolled": true
   },
   "outputs": [
    {
     "name": "stdout",
     "output_type": "stream",
     "text": [
      "Average of the list using myreduce() function= 35.75\n",
      "\n",
      "Average of a list using reduce() function= 35.75\n"
     ]
    }
   ],
   "source": [
    "\n",
    "# Python program to get average of a list\n",
    "def myreduce(lst):\n",
    "    return sum(lst) / len(lst)\n",
    "lst = [15, 9, 55, 41, 35, 20, 62, 49]\n",
    "avg=myreduce(lst)\n",
    "print(\"Average of the list using myreduce() function=\",round(avg,2))\n",
    "# Python program to get average of a list\n",
    "# Using reduce() \n",
    "\n",
    "from functools import reduce    \n",
    "av=reduce(lambda a, b: a + b, lst) / len(lst)                  \n",
    "print(\"\\nAverage of a list using reduce() function=\",round(av,2))\n",
    "    "
   ]
  },
  {
   "cell_type": "code",
   "execution_count": 2,
   "metadata": {},
   "outputs": [],
   "source": [
    " #Problem Statement 2:\n",
    "    \n",
    "#Write a Python program to implement your own myfilter() function which works exactly\n",
    "#like Python's built-in function filter()\n"
   ]
  },
  {
   "cell_type": "code",
   "execution_count": 3,
   "metadata": {},
   "outputs": [
    {
     "name": "stdout",
     "output_type": "stream",
     "text": [
      "print even number using myfilter() function\n",
      "2  4  6  8  10  12  14  16  18  20  \n",
      "\n",
      "\n",
      "print even number using filter() function\n",
      "2  4  6  8  10  12  14  16  18  20  "
     ]
    }
   ],
   "source": [
    "#print even number using myfilter function\n",
    "def myfilter(numlst):\n",
    "    lsteve=[]\n",
    "    for i in numlst:\n",
    "        if i%2==0:\n",
    "           lsteve.append(i)  \n",
    "    return lsteve     \n",
    "\n",
    "\n",
    "eve=myfilter(list(range(1,21)))\n",
    "print(\"print even number using myfilter() function\")\n",
    "for i in eve:\n",
    "    print(i,end=\"  \")\n",
    "#print even number usin filter\n",
    "res4=[]\n",
    "res4=filter(lambda k:k%2==0,range(1,21))\n",
    "print(\"\\n\\n\\nprint even number using filter() function\")\n",
    "for i in res4:\n",
    "    print(i,end=\"  \")"
   ]
  },
  {
   "cell_type": "code",
   "execution_count": null,
   "metadata": {},
   "outputs": [],
   "source": []
  },
  {
   "cell_type": "code",
   "execution_count": null,
   "metadata": {},
   "outputs": [],
   "source": []
  },
  {
   "cell_type": "code",
   "execution_count": null,
   "metadata": {},
   "outputs": [],
   "source": []
  },
  {
   "cell_type": "code",
   "execution_count": null,
   "metadata": {},
   "outputs": [],
   "source": []
  },
  {
   "cell_type": "code",
   "execution_count": null,
   "metadata": {},
   "outputs": [],
   "source": []
  },
  {
   "cell_type": "code",
   "execution_count": null,
   "metadata": {},
   "outputs": [],
   "source": []
  },
  {
   "cell_type": "code",
   "execution_count": null,
   "metadata": {},
   "outputs": [],
   "source": []
  }
 ],
 "metadata": {
  "kernelspec": {
   "display_name": "Python 3",
   "language": "python",
   "name": "python3"
  },
  "language_info": {
   "codemirror_mode": {
    "name": "ipython",
    "version": 3
   },
   "file_extension": ".py",
   "mimetype": "text/x-python",
   "name": "python",
   "nbconvert_exporter": "python",
   "pygments_lexer": "ipython3",
   "version": "3.6.4"
  }
 },
 "nbformat": 4,
 "nbformat_minor": 2
}
